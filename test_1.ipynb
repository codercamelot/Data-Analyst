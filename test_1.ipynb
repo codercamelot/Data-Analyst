{
  "nbformat": 4,
  "nbformat_minor": 0,
  "metadata": {
    "colab": {
      "name": "Untitled2.ipynb",
      "provenance": [],
      "authorship_tag": "ABX9TyOt7dYIjV8d9ixINHfE6N+2",
      "include_colab_link": true
    },
    "kernelspec": {
      "name": "python3",
      "display_name": "Python 3"
    }
  },
  "cells": [
    {
      "cell_type": "markdown",
      "metadata": {
        "id": "view-in-github",
        "colab_type": "text"
      },
      "source": [
        "<a href=\"https://colab.research.google.com/github/codercamelot/Data-Analyst/blob/main/test_1.ipynb\" target=\"_parent\"><img src=\"https://colab.research.google.com/assets/colab-badge.svg\" alt=\"Open In Colab\"/></a>"
      ]
    },
    {
      "cell_type": "markdown",
      "metadata": {
        "id": "X-IPoVczj78s"
      },
      "source": [
        "Name: Shekhar Shrestha\n",
        "\n",
        "Python for Data Analytics\n",
        "\n",
        "What is Python and why is it useful?\n",
        "\n",
        "Python is a high level programming language. It is useful for different purposes for web development , data science, machine learning etc.\n",
        "\n"
      ]
    },
    {
      "cell_type": "markdown",
      "metadata": {
        "id": "9YKtl5kXjeEY"
      },
      "source": [
        "# Create a variable that holds the string “hello there!”\n"
      ]
    },
    {
      "cell_type": "code",
      "metadata": {
        "colab": {
          "base_uri": "https://localhost:8080/"
        },
        "id": "O3V9LPNcgYyh",
        "outputId": "edaa8a4b-59ee-481d-b9e3-a2225455ba2e"
      },
      "source": [
        "\n",
        "a = 'hello there!'\n",
        "print(a)\n"
      ],
      "execution_count": 1,
      "outputs": [
        {
          "output_type": "stream",
          "text": [
            "hello there!\n"
          ],
          "name": "stdout"
        }
      ]
    },
    {
      "cell_type": "markdown",
      "metadata": {
        "id": "f5fijTX8ji2N"
      },
      "source": [
        "Create a variable for first name, last name and an email extension.  \n",
        "Concatenating all three together to form an email address.  For example: firstnamelastname@gmail.com"
      ]
    },
    {
      "cell_type": "code",
      "metadata": {
        "colab": {
          "base_uri": "https://localhost:8080/"
        },
        "id": "Wd4OzHGAjjzZ",
        "outputId": "34718cd5-8fb2-44af-ea35-4d22b8234462"
      },
      "source": [
        "first_name = 'coder'\n",
        "last_name = 'camelot'\n",
        "email_ext = '@gmail.com'\n",
        "print(first_name + last_name + email_ext)"
      ],
      "execution_count": 2,
      "outputs": [
        {
          "output_type": "stream",
          "text": [
            "codercamelot@gmail.com\n"
          ],
          "name": "stdout"
        }
      ]
    },
    {
      "cell_type": "markdown",
      "metadata": {
        "id": "YucTMY3GkXjf"
      },
      "source": [
        "Store someone you know name in a variable called name.  Print their name in lower and uppercase using a method."
      ]
    },
    {
      "cell_type": "code",
      "metadata": {
        "colab": {
          "base_uri": "https://localhost:8080/"
        },
        "id": "KvBw7QPCkNTA",
        "outputId": "e99b2f1b-1177-4b22-cb47-67d412e0edbd"
      },
      "source": [
        "name = 'coder2020camelot'\n",
        "print(name.upper())\n",
        "print(name.lower())"
      ],
      "execution_count": 3,
      "outputs": [
        {
          "output_type": "stream",
          "text": [
            "CODER2020CAMELOT\n",
            "coder2020camelot\n"
          ],
          "name": "stdout"
        }
      ]
    },
    {
      "cell_type": "markdown",
      "metadata": {
        "id": "6B_GxfSWk-0-"
      },
      "source": [
        "Using a variable, ask your friend if they want to hang out on the 15th of the month.  For example, “Do you want to hang out on the 15th of this month?”  You should have to convert the number to a string."
      ]
    },
    {
      "cell_type": "code",
      "metadata": {
        "colab": {
          "base_uri": "https://localhost:8080/"
        },
        "id": "3V4PxXCklAuk",
        "outputId": "6068e2e3-f34e-4e60-a728-ff3c144e92c9"
      },
      "source": [
        "hang_out = input(\"Do you want to hang out on the 15th of this month? (yes/no):\")\n",
        "print(hang_out)"
      ],
      "execution_count": 4,
      "outputs": [
        {
          "output_type": "stream",
          "text": [
            "Do you want to hang out on the 15th of this month? (yes/no):yes\n",
            "yes\n"
          ],
          "name": "stdout"
        }
      ]
    },
    {
      "cell_type": "markdown",
      "metadata": {
        "id": "YNSmXgvql5KX"
      },
      "source": [
        "UNIT 2"
      ]
    },
    {
      "cell_type": "markdown",
      "metadata": {
        "id": "OvD40JdjmG8X"
      },
      "source": [
        "Create a list of 5 of your favorite tv shows.  "
      ]
    },
    {
      "cell_type": "code",
      "metadata": {
        "id": "y1DJm2BemH6I"
      },
      "source": [
        "Tv_Shows = ['Friends','The office','Jack Ryan','limitless','The Silicon Valley']\n",
        "# print(Tv_Shows)\n"
      ],
      "execution_count": 9,
      "outputs": []
    },
    {
      "cell_type": "markdown",
      "metadata": {
        "id": "-U_ynRxmmjwJ"
      },
      "source": [
        "Print the list in its original order."
      ]
    },
    {
      "cell_type": "code",
      "metadata": {
        "colab": {
          "base_uri": "https://localhost:8080/"
        },
        "id": "u4z-8hKImkV9",
        "outputId": "d3599669-2093-4aa3-eb7a-2bd22509a38c"
      },
      "source": [
        "print(Tv_Shows)"
      ],
      "execution_count": 6,
      "outputs": [
        {
          "output_type": "stream",
          "text": [
            "['Friends', 'The office', 'Jack Ryan', 'limitless', 'The Silicon Valley']\n"
          ],
          "name": "stdout"
        }
      ]
    },
    {
      "cell_type": "markdown",
      "metadata": {
        "id": "rOsbAX5gmpmf"
      },
      "source": [
        "\n",
        "Use the sorted() function to print the list in alphabetical order.  How is sorted() different from sort()?\n",
        "\n",
        "sorted() method sorts the given sequence either in ascending order or in descending order and always return the a sorted list"
      ]
    },
    {
      "cell_type": "markdown",
      "metadata": {
        "id": "A6I0Y07WpZn1"
      },
      "source": [
        "Print out your original list."
      ]
    },
    {
      "cell_type": "code",
      "metadata": {
        "colab": {
          "base_uri": "https://localhost:8080/"
        },
        "id": "OtCazREjpbFe",
        "outputId": "02b322dc-6fac-4cc7-c698-7c67a181fd3a"
      },
      "source": [
        "print(Tv_Shows)"
      ],
      "execution_count": 10,
      "outputs": [
        {
          "output_type": "stream",
          "text": [
            "['Friends', 'The office', 'Jack Ryan', 'limitless', 'The Silicon Valley']\n"
          ],
          "name": "stdout"
        }
      ]
    },
    {
      "cell_type": "markdown",
      "metadata": {
        "id": "yTKuPEzDponZ"
      },
      "source": [
        "Used sorted() to print your list in reverse alphabetical order."
      ]
    },
    {
      "cell_type": "code",
      "metadata": {
        "id": "z_SKY95KppLz"
      },
      "source": [
        "a = sorted(Tv_Shows, reverse = True)\n",
        "print(a)\n"
      ],
      "execution_count": null,
      "outputs": []
    },
    {
      "cell_type": "markdown",
      "metadata": {
        "id": "a6uec7OhqQ5O"
      },
      "source": [
        "Create a message indicating how many favorite TV shows you have – use the len() function."
      ]
    },
    {
      "cell_type": "code",
      "metadata": {
        "colab": {
          "base_uri": "https://localhost:8080/"
        },
        "id": "EH_mh8gqqR9J",
        "outputId": "14244e37-8542-4d9d-efa1-05b36ff386a2"
      },
      "source": [
        "message = \"You have {message} favourite TV shows\".format(message = len(Tv_Shows))\n",
        "print(message)"
      ],
      "execution_count": 14,
      "outputs": [
        {
          "output_type": "stream",
          "text": [
            "You have 5 favourite TV shows\n"
          ],
          "name": "stdout"
        }
      ]
    }
  ]
}